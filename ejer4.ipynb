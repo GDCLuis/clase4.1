{
 "cells": [
  {
   "cell_type": "code",
   "execution_count": 1,
   "metadata": {},
   "outputs": [
    {
     "name": "stdout",
     "output_type": "stream",
     "text": [
      "La tarea no se encuentra en la lista de tareas pendientes.\n",
      "Tareas pendientes: ['Lavar el coche', 'Estudiar para el examen', 'ir al gimnasio']\n",
      "Tareas completadas: ['Hacer la compra']\n"
     ]
    }
   ],
   "source": [
    "class GestorDeTareas:\n",
    "    def __init__(self):\n",
    "        self.tareas_pendientes = []\n",
    "        self.tareas_completadas = []\n",
    "\n",
    "    def agregar_tarea(self, tarea):\n",
    "        self.tareas_pendientes.append(tarea)\n",
    "\n",
    "    def marcar_completada(self, tarea):\n",
    "        if tarea in self.tareas_pendientes:\n",
    "            self.tareas_pendientes.remove(tarea)\n",
    "            self.tareas_completadas.append(tarea)\n",
    "        else:\n",
    "            print(\"La tarea no se encuentra en la lista de tareas pendientes.\")\n",
    "\n",
    "    def listar_tareas_pendientes(self):\n",
    "        return self.tareas_pendientes\n",
    "\n",
    "    def listar_tareas_completadas(self):\n",
    "        return self.tareas_completadas\n",
    "\n",
    "# Ejemplo de uso:\n",
    "gestor = GestorDeTareas()\n",
    "gestor.agregar_tarea(\"Hacer la compra\")\n",
    "gestor.agregar_tarea(\"Lavar el coche\")\n",
    "gestor.agregar_tarea(\"Estudiar para el examen\")\n",
    "gestor.agregar_tarea(\"ir al gimnasio\")\n",
    "\n",
    "gestor.marcar_completada(\"Hacer la compra\")\n",
    "gestor.marcar_completada(\"Ir al gimnasio\")\n",
    "\n",
    "print(\"Tareas pendientes:\", gestor.listar_tareas_pendientes())\n",
    "print(\"Tareas completadas:\", gestor.listar_tareas_completadas())"
   ]
  },
  {
   "cell_type": "markdown",
   "metadata": {},
   "source": [
    "Resuelto"
   ]
  }
 ],
 "metadata": {
  "kernelspec": {
   "display_name": "Python 3",
   "language": "python",
   "name": "python3"
  },
  "language_info": {
   "codemirror_mode": {
    "name": "ipython",
    "version": 3
   },
   "file_extension": ".py",
   "mimetype": "text/x-python",
   "name": "python",
   "nbconvert_exporter": "python",
   "pygments_lexer": "ipython3",
   "version": "3.12.3"
  }
 },
 "nbformat": 4,
 "nbformat_minor": 2
}
